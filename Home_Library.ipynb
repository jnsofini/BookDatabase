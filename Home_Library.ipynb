{
 "cells": [
  {
   "cell_type": "markdown",
   "metadata": {},
   "source": [
    "# Home Library Database\n",
    "This notebook is intened to provide useful information between `sqlite` and `python`."
   ]
  },
  {
   "cell_type": "code",
   "execution_count": 1,
   "metadata": {},
   "outputs": [],
   "source": [
    "import numpy as np\n",
    "import pandas as pd\n",
    "import seaborn as sns\n",
    "import matplotlib.dates as mdates\n",
    "import matplotlib.pyplot as plt\n",
    "from pandas import *\n",
    "from sklearn.linear_model import LinearRegression as lr"
   ]
  },
  {
   "cell_type": "code",
   "execution_count": 2,
   "metadata": {},
   "outputs": [],
   "source": [
    "category = pd.read_csv('Category.csv')"
   ]
  },
  {
   "cell_type": "code",
   "execution_count": 3,
   "metadata": {},
   "outputs": [
    {
     "data": {
      "text/html": [
       "<div>\n",
       "<style scoped>\n",
       "    .dataframe tbody tr th:only-of-type {\n",
       "        vertical-align: middle;\n",
       "    }\n",
       "\n",
       "    .dataframe tbody tr th {\n",
       "        vertical-align: top;\n",
       "    }\n",
       "\n",
       "    .dataframe thead th {\n",
       "        text-align: right;\n",
       "    }\n",
       "</style>\n",
       "<table border=\"1\" class=\"dataframe\">\n",
       "  <thead>\n",
       "    <tr style=\"text-align: right;\">\n",
       "      <th></th>\n",
       "      <th>Category_ID</th>\n",
       "      <th>Description</th>\n",
       "    </tr>\n",
       "  </thead>\n",
       "  <tbody>\n",
       "    <tr>\n",
       "      <th>0</th>\n",
       "      <td>Foundation of Mathematics</td>\n",
       "      <td>This deals with the mathematical investigation...</td>\n",
       "    </tr>\n",
       "    <tr>\n",
       "      <th>1</th>\n",
       "      <td>Number Theory</td>\n",
       "      <td>This is the study of numbers and the propertie...</td>\n",
       "    </tr>\n",
       "    <tr>\n",
       "      <th>2</th>\n",
       "      <td>Algebra</td>\n",
       "      <td>This is a broad subject including Order theory...</td>\n",
       "    </tr>\n",
       "  </tbody>\n",
       "</table>\n",
       "</div>"
      ],
      "text/plain": [
       "                  Category_ID  \\\n",
       "0  Foundation of Mathematics    \n",
       "1               Number Theory   \n",
       "2                     Algebra   \n",
       "\n",
       "                                         Description  \n",
       "0  This deals with the mathematical investigation...  \n",
       "1  This is the study of numbers and the propertie...  \n",
       "2  This is a broad subject including Order theory...  "
      ]
     },
     "execution_count": 3,
     "metadata": {},
     "output_type": "execute_result"
    }
   ],
   "source": [
    "category.head(3)"
   ]
  },
  {
   "cell_type": "code",
   "execution_count": 4,
   "metadata": {},
   "outputs": [],
   "source": [
    "category = category.set_index('Category_ID')"
   ]
  },
  {
   "cell_type": "code",
   "execution_count": 5,
   "metadata": {},
   "outputs": [
    {
     "data": {
      "text/html": [
       "<div>\n",
       "<style scoped>\n",
       "    .dataframe tbody tr th:only-of-type {\n",
       "        vertical-align: middle;\n",
       "    }\n",
       "\n",
       "    .dataframe tbody tr th {\n",
       "        vertical-align: top;\n",
       "    }\n",
       "\n",
       "    .dataframe thead th {\n",
       "        text-align: right;\n",
       "    }\n",
       "</style>\n",
       "<table border=\"1\" class=\"dataframe\">\n",
       "  <thead>\n",
       "    <tr style=\"text-align: right;\">\n",
       "      <th></th>\n",
       "      <th>Description</th>\n",
       "    </tr>\n",
       "    <tr>\n",
       "      <th>Category_ID</th>\n",
       "      <th></th>\n",
       "    </tr>\n",
       "  </thead>\n",
       "  <tbody>\n",
       "    <tr>\n",
       "      <th>Foundation of Mathematics</th>\n",
       "      <td>This deals with the mathematical investigation...</td>\n",
       "    </tr>\n",
       "    <tr>\n",
       "      <th>Number Theory</th>\n",
       "      <td>This is the study of numbers and the propertie...</td>\n",
       "    </tr>\n",
       "    <tr>\n",
       "      <th>Algebra</th>\n",
       "      <td>This is a broad subject including Order theory...</td>\n",
       "    </tr>\n",
       "    <tr>\n",
       "      <th>Combinatorics</th>\n",
       "      <td>This is the study of finite or discrete collec...</td>\n",
       "    </tr>\n",
       "    <tr>\n",
       "      <th>Geometry</th>\n",
       "      <td>This covers spatial relationships, using funda...</td>\n",
       "    </tr>\n",
       "    <tr>\n",
       "      <th>Topology</th>\n",
       "      <td>Deals with the properties of a figure that do ...</td>\n",
       "    </tr>\n",
       "    <tr>\n",
       "      <th>Probability and Statistics</th>\n",
       "      <td>Generally the two subjects deal with the mathe...</td>\n",
       "    </tr>\n",
       "    <tr>\n",
       "      <th>Computational Mathematics</th>\n",
       "      <td>It's divided into Numerical analysis and Compu...</td>\n",
       "    </tr>\n",
       "    <tr>\n",
       "      <th>Classical mechanics</th>\n",
       "      <td>This is a model of the physics of forces actin...</td>\n",
       "    </tr>\n",
       "    <tr>\n",
       "      <th>Thermodynamics and statistical mechanics</th>\n",
       "      <td>It studies the effects of changes in temperatu...</td>\n",
       "    </tr>\n",
       "    <tr>\n",
       "      <th>Electromagnetism and photonics</th>\n",
       "      <td>The study of the behaviours of electrons, elec...</td>\n",
       "    </tr>\n",
       "    <tr>\n",
       "      <th>Relativistic mechanics</th>\n",
       "      <td>The special theory of relativity enjoys a rela...</td>\n",
       "    </tr>\n",
       "    <tr>\n",
       "      <th>Quantum mechanics, atomic physics, and molecular physics</th>\n",
       "      <td>This is the branch of physics treating atomic ...</td>\n",
       "    </tr>\n",
       "    <tr>\n",
       "      <th>Data Science</th>\n",
       "      <td>This is the field of study that combines domai...</td>\n",
       "    </tr>\n",
       "    <tr>\n",
       "      <th>C</th>\n",
       "      <td>C is a computer programming language. That mea...</td>\n",
       "    </tr>\n",
       "    <tr>\n",
       "      <th>C++</th>\n",
       "      <td>C++ is a cross-platform language that can be u...</td>\n",
       "    </tr>\n",
       "    <tr>\n",
       "      <th>Python</th>\n",
       "      <td>An interpreted, object-oriented, high-level pr...</td>\n",
       "    </tr>\n",
       "    <tr>\n",
       "      <th>Personal Development</th>\n",
       "      <td>This covers subject to improve awareness and i...</td>\n",
       "    </tr>\n",
       "    <tr>\n",
       "      <th>Religious Book</th>\n",
       "      <td>This is all about books related to religious m...</td>\n",
       "    </tr>\n",
       "  </tbody>\n",
       "</table>\n",
       "</div>"
      ],
      "text/plain": [
       "                                                                                          Description\n",
       "Category_ID                                                                                          \n",
       "Foundation of Mathematics                           This deals with the mathematical investigation...\n",
       "Number Theory                                       This is the study of numbers and the propertie...\n",
       "Algebra                                             This is a broad subject including Order theory...\n",
       "Combinatorics                                       This is the study of finite or discrete collec...\n",
       "Geometry                                            This covers spatial relationships, using funda...\n",
       "Topology                                            Deals with the properties of a figure that do ...\n",
       "Probability and Statistics                          Generally the two subjects deal with the mathe...\n",
       "Computational Mathematics                           It's divided into Numerical analysis and Compu...\n",
       "Classical mechanics                                 This is a model of the physics of forces actin...\n",
       "Thermodynamics and statistical mechanics            It studies the effects of changes in temperatu...\n",
       "Electromagnetism and photonics                      The study of the behaviours of electrons, elec...\n",
       "Relativistic mechanics                              The special theory of relativity enjoys a rela...\n",
       "Quantum mechanics, atomic physics, and molecula...  This is the branch of physics treating atomic ...\n",
       "Data Science                                        This is the field of study that combines domai...\n",
       "C                                                   C is a computer programming language. That mea...\n",
       "C++                                                 C++ is a cross-platform language that can be u...\n",
       "Python                                              An interpreted, object-oriented, high-level pr...\n",
       "Personal Development                                This covers subject to improve awareness and i...\n",
       "Religious Book                                      This is all about books related to religious m..."
      ]
     },
     "execution_count": 5,
     "metadata": {},
     "output_type": "execute_result"
    }
   ],
   "source": [
    "category"
   ]
  },
  {
   "cell_type": "code",
   "execution_count": null,
   "metadata": {},
   "outputs": [],
   "source": []
  }
 ],
 "metadata": {
  "kernelspec": {
   "display_name": "Python 3",
   "language": "python",
   "name": "python3"
  },
  "language_info": {
   "codemirror_mode": {
    "name": "ipython",
    "version": 3
   },
   "file_extension": ".py",
   "mimetype": "text/x-python",
   "name": "python",
   "nbconvert_exporter": "python",
   "pygments_lexer": "ipython3",
   "version": "3.8.3"
  }
 },
 "nbformat": 4,
 "nbformat_minor": 4
}
